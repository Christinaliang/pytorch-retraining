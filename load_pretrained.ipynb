{
 "cells": [
  {
   "cell_type": "code",
   "execution_count": 1,
   "metadata": {
    "collapsed": true
   },
   "outputs": [],
   "source": [
    "import torch\n",
    "import torch.nn as nn\n",
    "import torchvision\n",
    "import torchvision.models as models\n",
    "import torch.utils.model_zoo as model_zoo"
   ]
  },
  {
   "cell_type": "markdown",
   "metadata": {},
   "source": [
    "### Configuration"
   ]
  },
  {
   "cell_type": "code",
   "execution_count": 2,
   "metadata": {
    "collapsed": true
   },
   "outputs": [],
   "source": [
    "model_urls = {\n",
    "    'alexnet': 'https://download.pytorch.org/models/alexnet-owt-4df8aa71.pth',\n",
    "    'densenet121': 'https://download.pytorch.org/models/densenet121-241335ed.pth',\n",
    "    'densenet169': 'https://download.pytorch.org/models/densenet169-6f0f7f60.pth',\n",
    "    'densenet201': 'https://download.pytorch.org/models/densenet201-4c113574.pth',\n",
    "    'densenet161': 'https://download.pytorch.org/models/densenet161-17b70270.pth',\n",
    "    #truncated key (_google) to match module name\n",
    "    'inception_v3': 'https://download.pytorch.org/models/inception_v3_google-1a9a5a14.pth',\n",
    "    'resnet18': 'https://download.pytorch.org/models/resnet18-5c106cde.pth',\n",
    "    'resnet34': 'https://download.pytorch.org/models/resnet34-333f7ec4.pth',\n",
    "    'resnet50': 'https://download.pytorch.org/models/resnet50-19c8e357.pth',\n",
    "    'resnet101': 'https://download.pytorch.org/models/resnet101-5d3b4d8f.pth',\n",
    "    'resnet152': 'https://download.pytorch.org/models/resnet152-b121ed2d.pth',    \n",
    "    'squeezenet1_0': 'https://download.pytorch.org/models/squeezenet1_0-a815701f.pth',\n",
    "    'squeezenet1_1': 'https://download.pytorch.org/models/squeezenet1_1-f364aa15.pth',\n",
    "    'vgg11': 'https://download.pytorch.org/models/vgg11-bbd30ac9.pth',\n",
    "    'vgg13': 'https://download.pytorch.org/models/vgg13-c768596a.pth',\n",
    "    'vgg16': 'https://download.pytorch.org/models/vgg16-397923af.pth',\n",
    "    'vgg19': 'https://download.pytorch.org/models/vgg19-dcbb9e9d.pth',\n",
    "    'vgg11_bn': 'https://download.pytorch.org/models/vgg11_bn-6002323d.pth',\n",
    "    'vgg13_bn': 'https://download.pytorch.org/models/vgg13_bn-abd245e5.pth',\n",
    "    'vgg16_bn': 'https://download.pytorch.org/models/vgg16_bn-6c64b313.pth',\n",
    "    'vgg19_bn': 'https://download.pytorch.org/models/vgg19_bn-c79401a0.pth',    \n",
    "}\n",
    "\n",
    "model_names = model_urls.keys()\n",
    "models_to_test = model_names"
   ]
  },
  {
   "cell_type": "markdown",
   "metadata": {},
   "source": [
    "### Generic pretrained model loading"
   ]
  },
  {
   "cell_type": "code",
   "execution_count": 3,
   "metadata": {
    "collapsed": true
   },
   "outputs": [],
   "source": [
    "def load_model_named(name, **kwargs):   \n",
    "    #Densenets don't (yet) pass on num_classes, hack it in\n",
    "    if \"densenet\" in name:\n",
    "        if name == 'densenet169':\n",
    "            return models.DenseNet(num_init_features=64, growth_rate=32, \\\n",
    "                                   block_config=(6, 12, 32, 32), num_classes=num_classes)\n",
    "        \n",
    "        elif name == 'densenet121':\n",
    "            return models.DenseNet(num_init_features=64, growth_rate=32, \\\n",
    "                                   block_config=(6, 12, 24, 16), num_classes=num_classes)\n",
    "        \n",
    "        elif name == 'densenet201':\n",
    "            return models.DenseNet(num_init_features=64, growth_rate=32, \\\n",
    "                                   block_config=(6, 12, 48, 32), num_classes=num_classes)\n",
    "\n",
    "        elif name == 'densenet161':\n",
    "             return models.DenseNet(num_init_features=96, growth_rate=48, \\\n",
    "                                    block_config=(6, 12, 36, 24), num_classes=num_classes)\n",
    "        else:\n",
    "            raise ValueError(\"Cirumventing missing num_classes kwargs not implemented for %s\" % name)\n",
    "    \n",
    "    return models.__dict__[name](**kwargs)       "
   ]
  },
  {
   "cell_type": "markdown",
   "metadata": {},
   "source": [
    "Variants from https://github.com/pytorch/vision/issues/173"
   ]
  },
  {
   "cell_type": "code",
   "execution_count": 4,
   "metadata": {},
   "outputs": [],
   "source": [
    "def load_model(name, num_classes):\n",
    "    model = load_model_named(name, num_classes=num_classes)\n",
    "    \n",
    "    #Update\n",
    "    model_dict = model.state_dict()    \n",
    "    pretrained_dict = model_zoo.load_url(model_urls[name])\n",
    "\n",
    "    diff = {k: v for k, v in model_dict.items() if \\\n",
    "            k in pretrained_dict and pretrained_dict[k].size() != v.size()}\n",
    "    \n",
    "    pretrained_dict.update(diff)\n",
    "    \n",
    "    model.load_state_dict(pretrained_dict)\n",
    "    return model, diff"
   ]
  },
  {
   "cell_type": "code",
   "execution_count": 5,
   "metadata": {
    "collapsed": true
   },
   "outputs": [],
   "source": [
    "def load_model_key_only(name, num_classes):\n",
    "    model = load_model_named(name, num_classes=num_classes)\n",
    "    \n",
    "    #Update\n",
    "    model_dict = model.state_dict()\n",
    "    pretrained_dict = model_zoo.load_url(model_urls[name])\n",
    "\n",
    "    # 1. filter out unnecessary keys\n",
    "    pretrained_dict = {k: v for k, v in pretrained_dict.items() if k in model_dict}\n",
    "    # 2. overwrite entries in the existing state dict\n",
    "    model_dict.update(pretrained_dict)\n",
    "    # 3. load the new state dict\n",
    "    model.load_state_dict(model_dict)\n",
    "    \n",
    "    return model"
   ]
  },
  {
   "cell_type": "markdown",
   "metadata": {},
   "source": [
    "## Test generic loading methods"
   ]
  },
  {
   "cell_type": "code",
   "execution_count": 6,
   "metadata": {
    "collapsed": true
   },
   "outputs": [],
   "source": [
    "# Note: If cuda isn't available, unpickle fails with (at least) densenets"
   ]
  },
  {
   "cell_type": "code",
   "execution_count": 7,
   "metadata": {},
   "outputs": [
    {
     "name": "stdout",
     "output_type": "stream",
     "text": [
      "\n",
      "alexnet with 10 classes\n",
      "... merge loading: ['classifier.6.weight', 'classifier.6.bias']                  OK\n",
      "... merge on keys: inconsistent tensor size at /Users/soumith/miniconda2/conda-bld/pytorch_1493757603856/work/torch/lib/TH/generic/THTensorCopy.c:51 X\n",
      "\n",
      "resnet18 with 10 classes\n",
      "... merge loading: ['fc.weight', 'fc.bias']                                      OK\n",
      "... merge on keys: inconsistent tensor size at /Users/soumith/miniconda2/conda-bld/pytorch_1493757603856/work/torch/lib/TH/generic/THTensorCopy.c:51 X\n",
      "\n",
      "vgg11 with 10 classes\n",
      "... merge loading: ['classifier.6.weight', 'classifier.6.bias']                  OK\n",
      "... merge on keys: inconsistent tensor size at /Users/soumith/miniconda2/conda-bld/pytorch_1493757603856/work/torch/lib/TH/generic/THTensorCopy.c:51 X\n"
     ]
    }
   ],
   "source": [
    "num_classes = 10\n",
    "\n",
    "for name in ['alexnet', 'resnet18', 'vgg11']: # models_to_test:\n",
    "    print(\"\")\n",
    "    print(name, \"with %d classes\" % num_classes)\n",
    "    try:\n",
    "        model_merged, diff = load_model(name, num_classes)\n",
    "        diff_keys = list(diff.keys())\n",
    "        result = (\"... merge loading: \" + str(diff_keys)).ljust(80) \\\n",
    "        + (\" OK\" if len(diff_keys) > 0 else \" X\")\n",
    "    except Exception as e:\n",
    "        result = (\"... merge loading: \" + str(e)).ljust(80) + \" X\"\n",
    "    finally:\n",
    "        print(result)\n",
    "        \n",
    "    try:\n",
    "        model_keys = load_model_key_only(name, num_classes)\n",
    "        diff_keys = [p[0] for p in \\\n",
    "                    diff_states(model_merged.state_dict(), model_resized.state_dict())]\n",
    "        result = (\"... merge on keys: \" + str(diff_keys)).ljust(80) \\\n",
    "        + (\" OK\" if len(diff_keys) == 0 else \" X\")\n",
    "    except Exception as e:\n",
    "        result = (\"... merge on keys: \" + str(e)).ljust(80) + \" X\"\n",
    "    finally:\n",
    "        print(result)        "
   ]
  },
  {
   "cell_type": "code",
   "execution_count": null,
   "metadata": {
    "collapsed": true
   },
   "outputs": [],
   "source": []
  }
 ],
 "metadata": {
  "kernelspec": {
   "display_name": "Python 3",
   "language": "python",
   "name": "python3"
  },
  "language_info": {
   "codemirror_mode": {
    "name": "ipython",
    "version": 3
   },
   "file_extension": ".py",
   "mimetype": "text/x-python",
   "name": "python",
   "nbconvert_exporter": "python",
   "pygments_lexer": "ipython3",
   "version": "3.6.0"
  }
 },
 "nbformat": 4,
 "nbformat_minor": 2
}
